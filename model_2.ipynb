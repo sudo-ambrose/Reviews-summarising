{
 "cells": [
  {
   "cell_type": "markdown",
   "metadata": {},
   "source": [
    "# Product category clustering"
   ]
  },
  {
   "cell_type": "markdown",
   "metadata": {},
   "source": [
    "IMPORTS"
   ]
  },
  {
   "cell_type": "code",
   "execution_count": 18,
   "metadata": {},
   "outputs": [],
   "source": [
    "import pandas as pd\n",
    "import re\n",
    "from sklearn.feature_extraction.text import TfidfVectorizer\n",
    "from nltk.stem import PorterStemmer\n",
    "from nltk.tokenize import word_tokenize\n",
    "from scipy.sparse import hstack\n",
    "from sklearn.cluster import KMeans\n",
    "from sklearn.metrics import silhouette_score\n",
    "import numpy as np\n",
    "import matplotlib.pyplot as plt\n",
    "from sklearn.decomposition import PCA"
   ]
  },
  {
   "cell_type": "markdown",
   "metadata": {},
   "source": [
    "LOADING THE DATASET"
   ]
  },
  {
   "cell_type": "code",
   "execution_count": 2,
   "metadata": {},
   "outputs": [
    {
     "name": "stdout",
     "output_type": "stream",
     "text": [
      "category          object\n",
      "product_names     object\n",
      "review            object\n",
      "star_rating      float64\n",
      "sentiment         object\n",
      "dtype: object\n"
     ]
    },
    {
     "data": {
      "text/html": [
       "<div>\n",
       "<style scoped>\n",
       "    .dataframe tbody tr th:only-of-type {\n",
       "        vertical-align: middle;\n",
       "    }\n",
       "\n",
       "    .dataframe tbody tr th {\n",
       "        vertical-align: top;\n",
       "    }\n",
       "\n",
       "    .dataframe thead th {\n",
       "        text-align: right;\n",
       "    }\n",
       "</style>\n",
       "<table border=\"1\" class=\"dataframe\">\n",
       "  <thead>\n",
       "    <tr style=\"text-align: right;\">\n",
       "      <th></th>\n",
       "      <th>category</th>\n",
       "      <th>product_names</th>\n",
       "      <th>review</th>\n",
       "      <th>star_rating</th>\n",
       "      <th>sentiment</th>\n",
       "    </tr>\n",
       "  </thead>\n",
       "  <tbody>\n",
       "    <tr>\n",
       "      <th>0</th>\n",
       "      <td>Electronics,iPad &amp; Tablets,All Tablets,Fire Ta...</td>\n",
       "      <td>All-New Fire HD 8 Tablet, 8 HD Display, Wi-Fi,...</td>\n",
       "      <td>This product so far has not disappointed. My c...</td>\n",
       "      <td>5.0</td>\n",
       "      <td>positive</td>\n",
       "    </tr>\n",
       "    <tr>\n",
       "      <th>1</th>\n",
       "      <td>Electronics,iPad &amp; Tablets,All Tablets,Fire Ta...</td>\n",
       "      <td>All-New Fire HD 8 Tablet, 8 HD Display, Wi-Fi,...</td>\n",
       "      <td>great for beginner or experienced person. Boug...</td>\n",
       "      <td>5.0</td>\n",
       "      <td>positive</td>\n",
       "    </tr>\n",
       "    <tr>\n",
       "      <th>2</th>\n",
       "      <td>Electronics,iPad &amp; Tablets,All Tablets,Fire Ta...</td>\n",
       "      <td>All-New Fire HD 8 Tablet, 8 HD Display, Wi-Fi,...</td>\n",
       "      <td>Inexpensive tablet for him to use and learn on...</td>\n",
       "      <td>5.0</td>\n",
       "      <td>positive</td>\n",
       "    </tr>\n",
       "    <tr>\n",
       "      <th>3</th>\n",
       "      <td>Electronics,iPad &amp; Tablets,All Tablets,Fire Ta...</td>\n",
       "      <td>All-New Fire HD 8 Tablet, 8 HD Display, Wi-Fi,...</td>\n",
       "      <td>I've had my Fire HD 8 two weeks now and I love...</td>\n",
       "      <td>4.0</td>\n",
       "      <td>positive</td>\n",
       "    </tr>\n",
       "    <tr>\n",
       "      <th>4</th>\n",
       "      <td>Electronics,iPad &amp; Tablets,All Tablets,Fire Ta...</td>\n",
       "      <td>All-New Fire HD 8 Tablet, 8 HD Display, Wi-Fi,...</td>\n",
       "      <td>I bought this for my grand daughter when she c...</td>\n",
       "      <td>5.0</td>\n",
       "      <td>positive</td>\n",
       "    </tr>\n",
       "  </tbody>\n",
       "</table>\n",
       "</div>"
      ],
      "text/plain": [
       "                                            category  \\\n",
       "0  Electronics,iPad & Tablets,All Tablets,Fire Ta...   \n",
       "1  Electronics,iPad & Tablets,All Tablets,Fire Ta...   \n",
       "2  Electronics,iPad & Tablets,All Tablets,Fire Ta...   \n",
       "3  Electronics,iPad & Tablets,All Tablets,Fire Ta...   \n",
       "4  Electronics,iPad & Tablets,All Tablets,Fire Ta...   \n",
       "\n",
       "                                       product_names  \\\n",
       "0  All-New Fire HD 8 Tablet, 8 HD Display, Wi-Fi,...   \n",
       "1  All-New Fire HD 8 Tablet, 8 HD Display, Wi-Fi,...   \n",
       "2  All-New Fire HD 8 Tablet, 8 HD Display, Wi-Fi,...   \n",
       "3  All-New Fire HD 8 Tablet, 8 HD Display, Wi-Fi,...   \n",
       "4  All-New Fire HD 8 Tablet, 8 HD Display, Wi-Fi,...   \n",
       "\n",
       "                                              review  star_rating sentiment  \n",
       "0  This product so far has not disappointed. My c...          5.0  positive  \n",
       "1  great for beginner or experienced person. Boug...          5.0  positive  \n",
       "2  Inexpensive tablet for him to use and learn on...          5.0  positive  \n",
       "3  I've had my Fire HD 8 two weeks now and I love...          4.0  positive  \n",
       "4  I bought this for my grand daughter when she c...          5.0  positive  "
      ]
     },
     "execution_count": 2,
     "metadata": {},
     "output_type": "execute_result"
    }
   ],
   "source": [
    "df = pd.read_csv('reviews_sentiment.csv')\n",
    "\n",
    "print(df.dtypes)\n",
    "df.head()\n"
   ]
  },
  {
   "cell_type": "markdown",
   "metadata": {},
   "source": [
    "## PREPROCESSING"
   ]
  },
  {
   "cell_type": "code",
   "execution_count": 3,
   "metadata": {},
   "outputs": [
    {
     "data": {
      "text/html": [
       "<div>\n",
       "<style scoped>\n",
       "    .dataframe tbody tr th:only-of-type {\n",
       "        vertical-align: middle;\n",
       "    }\n",
       "\n",
       "    .dataframe tbody tr th {\n",
       "        vertical-align: top;\n",
       "    }\n",
       "\n",
       "    .dataframe thead th {\n",
       "        text-align: right;\n",
       "    }\n",
       "</style>\n",
       "<table border=\"1\" class=\"dataframe\">\n",
       "  <thead>\n",
       "    <tr style=\"text-align: right;\">\n",
       "      <th></th>\n",
       "      <th>product_names</th>\n",
       "      <th>category</th>\n",
       "      <th>product_names_processed</th>\n",
       "      <th>category_processed</th>\n",
       "    </tr>\n",
       "  </thead>\n",
       "  <tbody>\n",
       "    <tr>\n",
       "      <th>0</th>\n",
       "      <td>All-New Fire HD 8 Tablet, 8 HD Display, Wi-Fi,...</td>\n",
       "      <td>Electronics,iPad &amp; Tablets,All Tablets,Fire Ta...</td>\n",
       "      <td>allnew fire hd 8 tablet 8 hd display wifi 16 g...</td>\n",
       "      <td>electronicsipad tabletsal tabletsfir tabletsta...</td>\n",
       "    </tr>\n",
       "    <tr>\n",
       "      <th>1</th>\n",
       "      <td>All-New Fire HD 8 Tablet, 8 HD Display, Wi-Fi,...</td>\n",
       "      <td>Electronics,iPad &amp; Tablets,All Tablets,Fire Ta...</td>\n",
       "      <td>allnew fire hd 8 tablet 8 hd display wifi 16 g...</td>\n",
       "      <td>electronicsipad tabletsal tabletsfir tabletsta...</td>\n",
       "    </tr>\n",
       "    <tr>\n",
       "      <th>2</th>\n",
       "      <td>All-New Fire HD 8 Tablet, 8 HD Display, Wi-Fi,...</td>\n",
       "      <td>Electronics,iPad &amp; Tablets,All Tablets,Fire Ta...</td>\n",
       "      <td>allnew fire hd 8 tablet 8 hd display wifi 16 g...</td>\n",
       "      <td>electronicsipad tabletsal tabletsfir tabletsta...</td>\n",
       "    </tr>\n",
       "    <tr>\n",
       "      <th>3</th>\n",
       "      <td>All-New Fire HD 8 Tablet, 8 HD Display, Wi-Fi,...</td>\n",
       "      <td>Electronics,iPad &amp; Tablets,All Tablets,Fire Ta...</td>\n",
       "      <td>allnew fire hd 8 tablet 8 hd display wifi 16 g...</td>\n",
       "      <td>electronicsipad tabletsal tabletsfir tabletsta...</td>\n",
       "    </tr>\n",
       "    <tr>\n",
       "      <th>4</th>\n",
       "      <td>All-New Fire HD 8 Tablet, 8 HD Display, Wi-Fi,...</td>\n",
       "      <td>Electronics,iPad &amp; Tablets,All Tablets,Fire Ta...</td>\n",
       "      <td>allnew fire hd 8 tablet 8 hd display wifi 16 g...</td>\n",
       "      <td>electronicsipad tabletsal tabletsfir tabletsta...</td>\n",
       "    </tr>\n",
       "  </tbody>\n",
       "</table>\n",
       "</div>"
      ],
      "text/plain": [
       "                                       product_names  \\\n",
       "0  All-New Fire HD 8 Tablet, 8 HD Display, Wi-Fi,...   \n",
       "1  All-New Fire HD 8 Tablet, 8 HD Display, Wi-Fi,...   \n",
       "2  All-New Fire HD 8 Tablet, 8 HD Display, Wi-Fi,...   \n",
       "3  All-New Fire HD 8 Tablet, 8 HD Display, Wi-Fi,...   \n",
       "4  All-New Fire HD 8 Tablet, 8 HD Display, Wi-Fi,...   \n",
       "\n",
       "                                            category  \\\n",
       "0  Electronics,iPad & Tablets,All Tablets,Fire Ta...   \n",
       "1  Electronics,iPad & Tablets,All Tablets,Fire Ta...   \n",
       "2  Electronics,iPad & Tablets,All Tablets,Fire Ta...   \n",
       "3  Electronics,iPad & Tablets,All Tablets,Fire Ta...   \n",
       "4  Electronics,iPad & Tablets,All Tablets,Fire Ta...   \n",
       "\n",
       "                             product_names_processed  \\\n",
       "0  allnew fire hd 8 tablet 8 hd display wifi 16 g...   \n",
       "1  allnew fire hd 8 tablet 8 hd display wifi 16 g...   \n",
       "2  allnew fire hd 8 tablet 8 hd display wifi 16 g...   \n",
       "3  allnew fire hd 8 tablet 8 hd display wifi 16 g...   \n",
       "4  allnew fire hd 8 tablet 8 hd display wifi 16 g...   \n",
       "\n",
       "                                  category_processed  \n",
       "0  electronicsipad tabletsal tabletsfir tabletsta...  \n",
       "1  electronicsipad tabletsal tabletsfir tabletsta...  \n",
       "2  electronicsipad tabletsal tabletsfir tabletsta...  \n",
       "3  electronicsipad tabletsal tabletsfir tabletsta...  \n",
       "4  electronicsipad tabletsal tabletsfir tabletsta...  "
      ]
     },
     "execution_count": 3,
     "metadata": {},
     "output_type": "execute_result"
    }
   ],
   "source": [
    "#creating dataframe\n",
    "cat = pd.DataFrame()\n",
    "\n",
    "#getting the columns\n",
    "cat[['product_names', 'category']] = df[['product_names', 'category']]\n",
    "\n",
    "#initializing Stemmer\n",
    "stemmer = PorterStemmer()\n",
    "\n",
    "#function for preprocessing with Stemming\n",
    "def preprocess_text(text):\n",
    "    #to lowercase\n",
    "    text = text.lower()\n",
    "    #remove all non alphanumerical characters\n",
    "    text = re.sub(r'[^a-z0-9\\s]', '', text)\n",
    "    #tokenize\n",
    "    tokens = word_tokenize(text)\n",
    "    #stemming\n",
    "    stemmed_tokens = [stemmer.stem(token) for token in tokens]\n",
    "    #tokens back into a single string\n",
    "    return ' '.join(stemmed_tokens)\n",
    "\n",
    "\n",
    "cat['product_names_processed'] = cat['product_names'].apply(preprocess_text)\n",
    "cat['category_processed'] = cat['category'].apply(preprocess_text)\n",
    "\n",
    "cat.head()"
   ]
  },
  {
   "cell_type": "markdown",
   "metadata": {},
   "source": [
    "### TF-IDF"
   ]
  },
  {
   "cell_type": "code",
   "execution_count": 4,
   "metadata": {},
   "outputs": [],
   "source": [
    "#vectorizer initializing\n",
    "vectorizer1 = TfidfVectorizer(min_df = 5,max_df =0.8, max_features=1000,ngram_range=(1,3))\n",
    "vectorizer2 = TfidfVectorizer(min_df = 5,max_df =0.8, max_features=1000,ngram_range=(1,3))\n",
    "\n",
    "#vectorization\n",
    "tfidf1 = vectorizer1.fit_transform(cat['product_names_processed'])\n",
    "tfidf2 = vectorizer2.fit_transform(cat['category_processed'])\n",
    "\n",
    "#combining feature matrix\n",
    "combined_tfidf = hstack([tfidf1, tfidf2])"
   ]
  },
  {
   "cell_type": "markdown",
   "metadata": {},
   "source": [
    "### KMEANS CLUSTERING"
   ]
  },
  {
   "cell_type": "code",
   "execution_count": 7,
   "metadata": {},
   "outputs": [],
   "source": [
    "#test dataframe for visualisation\n",
    "test = pd.DataFrame()\n",
    "test['given_categories'] = df['category']"
   ]
  },
  {
   "cell_type": "markdown",
   "metadata": {},
   "source": [
    "Modelnitianalizing and predicting"
   ]
  },
  {
   "cell_type": "code",
   "execution_count": 8,
   "metadata": {},
   "outputs": [],
   "source": [
    "kmeans = KMeans(n_clusters=4, random_state=42)\n",
    "test['category'] = kmeans.fit_predict(combined_tfidf)"
   ]
  },
  {
   "cell_type": "markdown",
   "metadata": {},
   "source": [
    "## Evaluation"
   ]
  },
  {
   "cell_type": "code",
   "execution_count": 11,
   "metadata": {},
   "outputs": [
    {
     "name": "stdout",
     "output_type": "stream",
     "text": [
      "Silhouette Score: 0.6554080171390321\n"
     ]
    }
   ],
   "source": [
    "#computing silhouette_score\n",
    "score = silhouette_score(combined_tfidf, test['category'])\n",
    "print(f'Silhouette Score: {score}')"
   ]
  },
  {
   "cell_type": "code",
   "execution_count": 24,
   "metadata": {},
   "outputs": [
    {
     "data": {
      "text/html": [
       "<div>\n",
       "<style scoped>\n",
       "    .dataframe tbody tr th:only-of-type {\n",
       "        vertical-align: middle;\n",
       "    }\n",
       "\n",
       "    .dataframe tbody tr th {\n",
       "        vertical-align: top;\n",
       "    }\n",
       "\n",
       "    .dataframe thead th {\n",
       "        text-align: right;\n",
       "    }\n",
       "</style>\n",
       "<table border=\"1\" class=\"dataframe\">\n",
       "  <thead>\n",
       "    <tr style=\"text-align: right;\">\n",
       "      <th></th>\n",
       "      <th>given_categories</th>\n",
       "      <th>category</th>\n",
       "    </tr>\n",
       "  </thead>\n",
       "  <tbody>\n",
       "    <tr>\n",
       "      <th>0</th>\n",
       "      <td>Electronics,iPad &amp; Tablets,All Tablets,Fire Ta...</td>\n",
       "      <td>2</td>\n",
       "    </tr>\n",
       "    <tr>\n",
       "      <th>1</th>\n",
       "      <td>Electronics,iPad &amp; Tablets,All Tablets,Fire Ta...</td>\n",
       "      <td>2</td>\n",
       "    </tr>\n",
       "    <tr>\n",
       "      <th>2</th>\n",
       "      <td>Electronics,iPad &amp; Tablets,All Tablets,Fire Ta...</td>\n",
       "      <td>2</td>\n",
       "    </tr>\n",
       "    <tr>\n",
       "      <th>3</th>\n",
       "      <td>Electronics,iPad &amp; Tablets,All Tablets,Fire Ta...</td>\n",
       "      <td>2</td>\n",
       "    </tr>\n",
       "    <tr>\n",
       "      <th>4</th>\n",
       "      <td>Electronics,iPad &amp; Tablets,All Tablets,Fire Ta...</td>\n",
       "      <td>2</td>\n",
       "    </tr>\n",
       "  </tbody>\n",
       "</table>\n",
       "</div>"
      ],
      "text/plain": [
       "                                    given_categories  category\n",
       "0  Electronics,iPad & Tablets,All Tablets,Fire Ta...         2\n",
       "1  Electronics,iPad & Tablets,All Tablets,Fire Ta...         2\n",
       "2  Electronics,iPad & Tablets,All Tablets,Fire Ta...         2\n",
       "3  Electronics,iPad & Tablets,All Tablets,Fire Ta...         2\n",
       "4  Electronics,iPad & Tablets,All Tablets,Fire Ta...         2"
      ]
     },
     "execution_count": 24,
     "metadata": {},
     "output_type": "execute_result"
    }
   ],
   "source": [
    "test.head()"
   ]
  },
  {
   "cell_type": "markdown",
   "metadata": {},
   "source": [
    "Getting the top 10 words per cluster"
   ]
  },
  {
   "cell_type": "code",
   "execution_count": 16,
   "metadata": {},
   "outputs": [
    {
     "name": "stdout",
     "output_type": "stream",
     "text": [
      "Cluster 0: display wifi gb, wifi gb, wifi gb includ, fire tablet display, fire tablet, tablet display wifi, tablet display, special offer magenta, offer magenta, magenta\n",
      "Cluster 1: echo, echo white, white, home, amazon fire tv, fire tv, tv, amazon fire, audio, white echo white\n",
      "Cluster 2: tablet, tabletsfir, hd, tabletsal tabletsfir tabletstabletscomput, tabletstabletscomput tablet, tabletsfir tabletstabletscomput, tabletsal tabletsfir, tabletsfir tabletstabletscomput tablet, electronicsipad tabletsal tabletsfir, electronicsipad tabletsal\n",
      "Cluster 3: paperwhit, monochrom paperwhit touchscreen, ebook, gb monochrom, touchscreen wifi black, reader gb monochrom, touchscreen wifi, monochrom paperwhit, reader gb, amazon kindl paperwhit\n"
     ]
    }
   ],
   "source": [
    "# Get feature names from both vectorizers\n",
    "feature_names1 = vectorizer1.get_feature_names_out()\n",
    "feature_names2 = vectorizer2.get_feature_names_out()\n",
    "\n",
    "# Concatenate feature names into one array\n",
    "feature_names = np.concatenate([feature_names1, feature_names2])\n",
    "\n",
    "# Display top 10 terms for each cluster\n",
    "n_top_terms = 10\n",
    "for i, centroid in enumerate(centroids):\n",
    "    top_indices = centroid.argsort()[-n_top_terms:][::-1]\n",
    "    top_terms = feature_names[top_indices]\n",
    "    print(f\"Cluster {i}: {', '.join(top_terms)}\")"
   ]
  },
  {
   "cell_type": "markdown",
   "metadata": {},
   "source": [
    "Plotting the clusters"
   ]
  },
  {
   "cell_type": "code",
   "execution_count": 19,
   "metadata": {},
   "outputs": [
    {
     "data": {
      "image/png": "[encoded data removed]",
      "text/plain": [
       "<Figure size 1000x800 with 1 Axes>"
      ]
     },
     "metadata": {},
     "output_type": "display_data"
    }
   ],
   "source": [
    "# Reduce dimensions with PCA\n",
    "pca = PCA(n_components=2, random_state=42)\n",
    "reduced_data = pca.fit_transform(combined_tfidf.toarray())\n",
    "\n",
    "# Scatter plot\n",
    "plt.figure(figsize=(10, 8))\n",
    "for i in range(kmeans.n_clusters):\n",
    "    plt.scatter(reduced_data[kmeans.labels_ == i, 0], \n",
    "                reduced_data[kmeans.labels_ == i, 1], \n",
    "                label=f\"Cluster {i}\", alpha=0.6)\n",
    "\n",
    "plt.scatter(pca.transform(kmeans.cluster_centers_)[:, 0], \n",
    "            pca.transform(kmeans.cluster_centers_)[:, 1], \n",
    "            color='red', marker='x', s=100, label='Centroids')\n",
    "\n",
    "plt.title('Cluster Visualization')\n",
    "plt.xlabel('PCA Component 1')\n",
    "plt.ylabel('PCA Component 2')\n",
    "plt.legend()\n",
    "plt.show()"
   ]
  },
  {
   "cell_type": "markdown",
   "metadata": {},
   "source": [
    "## FINAL CSV"
   ]
  },
  {
   "cell_type": "code",
   "execution_count": 26,
   "metadata": {},
   "outputs": [],
   "source": [
    "#function to name the clusters\n",
    "def cluster_naming(cluster):\n",
    "    if cluster == 0 or cluster == 2:\n",
    "        return 'Tablets and Electronics'\n",
    "    elif cluster == 1:\n",
    "        return 'Smart Home and Entertainment'\n",
    "    else:\n",
    "        return 'E-Readers'"
   ]
  },
  {
   "cell_type": "code",
   "execution_count": 27,
   "metadata": {},
   "outputs": [],
   "source": [
    "#creating dataframe\n",
    "final_csv = pd.DataFrame()\n",
    "\n",
    "#getting the columns\n",
    "final_csv[['Product_name', 'Review', 'Sentiment']] = df[['product_names', 'review', 'sentiment']]\n",
    "final_csv['Category'] = test['category'].apply(cluster_naming)\n",
    "\n",
    "#exporting\n",
    "final_csv.to_csv('Final.csv', index=False)"
   ]
  },
  {
   "cell_type": "markdown",
   "metadata": {},
   "source": [
    "## Plot to illustrate presentation"
   ]
  },
  {
   "cell_type": "code",
   "execution_count": 23,
   "metadata": {},
   "outputs": [
    {
     "data": {
      "image/png": "[encoded data removed]",
      "text/plain": [
       "<Figure size 1000x800 with 1 Axes>"
      ]
     },
     "metadata": {},
     "output_type": "display_data"
    }
   ],
   "source": [
    "# Merge Cluster 0 and Cluster 2\n",
    "merged_labels = kmeans.labels_.copy()\n",
    "merged_labels[np.isin(kmeans.labels_, [0, 2])] = 0  # Merge Cluster 0 and 2 into one\n",
    "\n",
    "# Define cluster names\n",
    "cluster_names = {\n",
    "    0: \"Tablets and Electronics\",\n",
    "    1: \"Smart Home and Entertainment\",\n",
    "    3: \"E-Readers\",\n",
    "}\n",
    "\n",
    "# Reduce dimensions with PCA\n",
    "pca = PCA(n_components=2, random_state=42)\n",
    "reduced_data = pca.fit_transform(combined_tfidf.toarray())\n",
    "\n",
    "# Scatter plot\n",
    "plt.figure(figsize=(10, 8))\n",
    "unique_labels = np.unique(merged_labels)\n",
    "\n",
    "# Iterate through unique clusters (only 3 now)\n",
    "for i in unique_labels:\n",
    "    plt.scatter(reduced_data[merged_labels == i, 0], \n",
    "                reduced_data[merged_labels == i, 1], \n",
    "                label=cluster_names[i], alpha=0.6)\n",
    "\n",
    "# Calculate centroids for the merged clusters\n",
    "merged_centroids = []\n",
    "for i in unique_labels:\n",
    "    cluster_indices = np.where(merged_labels == i)[0]\n",
    "    centroid = combined_tfidf[cluster_indices].mean(axis=0)  # Average vectors for merged clusters\n",
    "    merged_centroids.append(np.asarray(centroid).flatten())  # Ensure proper array format\n",
    "\n",
    "# Convert centroids to NumPy array\n",
    "merged_centroids = np.vstack(merged_centroids)\n",
    "reduced_centroids = pca.transform(merged_centroids)\n",
    "\n",
    "# Plot centroids\n",
    "plt.scatter(reduced_centroids[:, 0], \n",
    "            reduced_centroids[:, 1], \n",
    "            color='red', marker='x', s=100, label='Centroids')\n",
    "\n",
    "plt.title('Cluster Visualization')\n",
    "plt.xlabel('PCA Component 1')\n",
    "plt.ylabel('PCA Component 2')\n",
    "plt.legend()\n",
    "plt.show()"
   ]
  }
 ],
 "metadata": {
  "kernelspec": {
   "display_name": "base",
   "language": "python",
   "name": "python3"
  },
  "language_info": {
   "codemirror_mode": {
    "name": "ipython",
    "version": 3
   },
   "file_extension": ".py",
   "mimetype": "text/x-python",
   "name": "python",
   "nbconvert_exporter": "python",
   "pygments_lexer": "ipython3",
   "version": "3.12.4"
  }
 },
 "nbformat": 4,
 "nbformat_minor": 2
}
